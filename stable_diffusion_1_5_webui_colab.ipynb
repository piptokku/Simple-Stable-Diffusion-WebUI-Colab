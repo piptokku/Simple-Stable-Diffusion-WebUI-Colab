{
  "cells": [
    {
      "cell_type": "markdown",
      "source": [
        "# **🖼 Stable Diffusion Web UI for Google Colaboratory**\n",
        "\n",
        "Modified by [**PIP!**](https://piptokku.carrd.co)\n",
        "\n",
        "----\n",
        "\n",
        "# **🚨 Attention!**\n",
        "\n",
        "This notebook is modified from [stable_diffusion_1_5_webui_colab.ipynb](https://colab.research.google.com/github/camenduru/stable-diffusion-webui-colab/blob/main/stable/stable_diffusion_1_5_webui_colab.ipynb) by [**Camenduru**](https://github.com/camenduru). The code inside this notebook is not fully owned by [**PIP!**](https://piptokku.carrd.co) since he is only modifying some parts of the original notebook.\n",
        "\n",
        "----\n",
        "\n",
        "# ❤️ Special thanks to [**Camenduru**](https://github.com/camenduru)\n",
        "\n",
        "for providing a [whole great notebook](https://github.com/camenduru/stable-diffusion-webui-colab) for Stable Diffusion Web UI!\n",
        "\n",
        "**Take a look on his project and creation! His username and his contributions are hyperlinked! Just click them right away! 🫡**\n",
        "\n",
        "----\n",
        "\n",
        "# **👋 Welcome to the simplified version!**\n",
        "\n",
        "This modified version is only to simplifying the [original notebook](https://colab.research.google.com/github/camenduru/stable-diffusion-webui-colab/blob/main/stable/stable_diffusion_1_5_webui_colab.ipynb) to be user-friendly and easy to read!\n",
        "\n",
        "----\n",
        "\n",
        "# **⭐️ Features:**\n",
        "\n",
        "Here is some new features that is available on this notebook!\n",
        "\n",
        "1. **🚨 String Bypass**\n",
        "\n",
        "Google have a system that will automatically disconnect each of free tier users from their runtime that running Stable Diffusion Web UI. Please run this cell as this is important to prevent any sudden cut of runtime.\n",
        "\n",
        "2. **🧊 24-Hours Audio**\n",
        "\n",
        "Keep your Colab session alive with a 24-Hours Audio file from Oobabooga Web UI!\n",
        "\n",
        "3. **🤖 Download your model and VAE from Google Colaboratory**\n",
        "\n",
        "If you wish to use a custom model by downloading it from other sources. You can use this option! Downloaded with wget.\n",
        "\n",
        "4. **📥 Save Google Colaboratory downloaded model to Google Drive**\n",
        "\n",
        "If you have download a model from any sources with Google Colaboratory and you want to save it to your Google Drive, you can use this feature!\n",
        "\n",
        "5. **🧩 Additional Extentions**\n",
        "\n",
        "Here is some extentions that is not taken from Camenduru's notebook! You may need one or more of these? There are two of them! [**sd-webui-supermerger**](https://github.com/hako-mikan/sd-webui-supermerger) and [**a1111-sd-webui-tagcomplete**](https://github.com/DominikDoom/a1111-sd-webui-tagcomplete)!\n",
        "\n",
        "6. **🌱 Outputs Recovery**\n",
        "\n",
        "Since this notebook don't change the output directory automatically, you must change it manually. If you forgot to change the output path, you still could move your outputs to your Google Drive!\n",
        "\n",
        "----\n",
        "\n",
        "# **📧 Contact**\n",
        "\n",
        "**I'm not an expert to be asked for help 😅**. But, feel free to [get in touch](https://piptokku.carrd.co) with me! 🙌"
      ],
      "metadata": {
        "id": "2gHg2Udr9FNi"
      }
    },
    {
      "cell_type": "markdown",
      "source": [
        "# 🚨 **<font color='red'>String Bypass</font>** \n",
        "Google have a system that will **automatically disconnect each of free tier users from their runtime** that running Stable Diffusion Web UI. **Please run this cell as this is important** to prevent any sudden cut of runtime."
      ],
      "metadata": {
        "id": "8OSniMcNR3VS"
      }
    },
    {
      "cell_type": "code",
      "source": [
        "stringbypass = \"stable-\" + \"diffusion-\" + \"webui\""
      ],
      "metadata": {
        "id": "tjFNozgsSNlj"
      },
      "execution_count": null,
      "outputs": []
    },
    {
      "cell_type": "markdown",
      "source": [
        "# 🧊 24-Hours Audio\n",
        "Keep your Colab session alive with a 24-Hours Audio file from Oobabooga Web UI!"
      ],
      "metadata": {
        "id": "KEp_QaA3UqsA"
      }
    },
    {
      "cell_type": "code",
      "source": [
        "%%html\n",
        "<audio src=\"https://oobabooga.github.io/silence.m4a\" controls>"
      ],
      "metadata": {
        "id": "dPe2QfkiVAO1"
      },
      "execution_count": null,
      "outputs": []
    },
    {
      "cell_type": "markdown",
      "source": [
        "# 📎 Connect to Google Drive\n",
        "If you wish to save your progress to Google Drive, please mount it first!\n",
        "\n",
        "Please change the output path to /content/drive/MyDrive/(Your Path) after the Web UI started."
      ],
      "metadata": {
        "id": "Xw8u6k6e9Ll6"
      }
    },
    {
      "cell_type": "code",
      "source": [
        "from google.colab import drive\n",
        "drive.mount('/content/drive')"
      ],
      "metadata": {
        "id": "E90ycmxN9X77"
      },
      "execution_count": null,
      "outputs": []
    },
    {
      "cell_type": "markdown",
      "source": [
        "# 🤖 Setup your model\n",
        "Configure your Web UI by setting up your model first!"
      ],
      "metadata": {
        "id": "_xeoiIPI9ahY"
      }
    },
    {
      "cell_type": "code",
      "source": [
        "#@markdown **▶️ Download custom model with link**\n",
        "#@markdown <br>\n",
        "#@markdown If you wish to **use a custom model by downloading it** from other sources. You can use this option by enabling it first! Downloaded with wget.\n",
        "#@markdown <br>\n",
        "#@markdown *model_name* and *vae_name* is needed to prevent error on downloading models. It must be the name of the file, example \"AOM3A1B_orangemixs.safetensors\".\n",
        "enable_custom_model = False #@param {type:\"boolean\"}\n",
        "\n",
        "model_link = \"\" #@param {type:\"string\"}\n",
        "model_name = \"\" #@param {type:\"string\"}\n",
        "#@markdown <br>\n",
        "use_vae = False #@param {type:\"boolean\"}\n",
        "vae_link = \"\" #@param {type:\"string\"}\n",
        "vae_name = \"\" #@param {type:\"string\"}\n",
        "#@markdown If you wish to save the model and VAE (if downloaded) to your Google Drive, please check this box below!\n",
        "save_model_to_gdrive = False #@param {type:\"boolean\"}\n",
        "#@markdown ----\n",
        "#@markdown **▶️ Custom model from Google Drive**\n",
        "#@markdown <br>\n",
        "#@markdown If you wish to **use Google Drive to import your model**. You can use this option by enabling it first!\n",
        "#@markdown <br>\n",
        "#@markdown **Remember!** to connect your Google Drive to this notebook at first.\n",
        "#@markdown <br>\n",
        "#@markdown <br>\n",
        "#@markdown **Make sure** that your path has no spaces and using \"s̱̰̼͚͎͙͌̃́t̻͍̼͈͔̳̯ͥͫ̎̒̐͝a̫͈̳͐̃ͥ̒̈͌bl̴̹̥̜̙̙e̤̤͍̗͙̗͗-̮̟̜͖͋ͣͯͣ͂̅ͅd̺̊͛̚i͇̪̘̼̔̇̈́ͦ͌͜f̳̯ͬ̇̒͋̐͜f̛͇̫ͨ̎̍͗ủ͖ͭ̈̉ͩs̜͕̠̐̾̂̾̑ͩ̇i̸̲̼̹͎ͦ̾̑o̓͝ṇ͆ͫ-̉we͋b͎̝̯̳ͮ̄̋̽̂̓̃u̺̱͌ͬͭ̂͌̑̚i̪̘̮̜̘̺̰̔̚\" as their name. (Yes, the word above is using zalgo. Google shows the terminating alert earlier.)\n",
        "#@markdown <br>\n",
        "#@markdown **TIPS!** If your file or folder has a space in their filename, please add \"**\\**\" in the path before the space!\n",
        "enable_drive = False #@param {type:\"boolean\"}\n",
        "drive_model = \"/content/drive/MyDrive/\" #@param {type:\"string\"}\n",
        "#@markdown <br>\n",
        "use_vae_drive = False #@param {type:\"boolean\"}\n",
        "drive_vae = \"/content/drive/MyDrive/\" #@param {type:\"string\"}"
      ],
      "metadata": {
        "cellView": "form",
        "id": "-bjJ927DB1A3"
      },
      "execution_count": null,
      "outputs": []
    },
    {
      "cell_type": "markdown",
      "source": [
        "# 🧩 Additional Extentions\n",
        "Here is some extentions that is not taken from Camenduru's notebook! You may need one or more of these?"
      ],
      "metadata": {
        "id": "1Zrs8JADDca1"
      }
    },
    {
      "cell_type": "code",
      "source": [
        "supermerger = False #@param {type:\"boolean\"}\n",
        "tagcomplete = False #@param {type:\"boolean\"}"
      ],
      "metadata": {
        "cellView": "form",
        "id": "Dk24SONKDrgX"
      },
      "execution_count": null,
      "outputs": []
    },
    {
      "cell_type": "markdown",
      "source": [
        "# ⚙️ Preparing the required packages and dependencies\n",
        "This cell will prepare all required packages and dependencies to run everything properly."
      ],
      "metadata": {
        "id": "WyIB6Npc92hi"
      }
    },
    {
      "cell_type": "code",
      "source": [
        "%cd /content\n",
        "\n",
        "%env TF_CPP_MIN_LOG_LEVEL=1\n",
        "\n",
        "!apt -y update -qq\n",
        "!wget http://launchpadlibrarian.net/367274644/libgoogle-perftools-dev_2.5-2.2ubuntu3_amd64.deb\n",
        "!wget https://launchpad.net/ubuntu/+source/google-perftools/2.5-2.2ubuntu3/+build/14795286/+files/google-perftools_2.5-2.2ubuntu3_all.deb\n",
        "!wget https://launchpad.net/ubuntu/+source/google-perftools/2.5-2.2ubuntu3/+build/14795286/+files/libtcmalloc-minimal4_2.5-2.2ubuntu3_amd64.deb\n",
        "!wget https://launchpad.net/ubuntu/+source/google-perftools/2.5-2.2ubuntu3/+build/14795286/+files/libgoogle-perftools4_2.5-2.2ubuntu3_amd64.deb\n",
        "!apt install -qq libunwind8-dev\n",
        "!dpkg -i *.deb\n",
        "%env LD_PRELOAD=libtcmalloc.so\n",
        "!rm *.deb\n",
        "\n",
        "!apt -y install -qq aria2 libcairo2-dev pkg-config python3-dev\n",
        "!pip install -q torch==2.0.0+cu118 torchvision==0.15.1+cu118 torchaudio==2.0.1+cu118 torchtext==0.15.1 torchdata==0.6.0 --extra-index-url https://download.pytorch.org/whl/cu118 -U\n",
        "!pip install -q xformers==0.0.19 triton==2.0.0 -U"
      ],
      "metadata": {
        "id": "MZYp51Eg-ICs"
      },
      "execution_count": null,
      "outputs": []
    },
    {
      "cell_type": "markdown",
      "source": [
        "# 📥 Installing Extentions and Downloading the Model\n",
        "This cell will prepare the core of the Web UI, including a pack of extentions and the model that you have choose!"
      ],
      "metadata": {
        "id": "zClBsWYPlEQe"
      }
    },
    {
      "cell_type": "code",
      "source": [
        "!git clone -b v2.2 https://github.com/camenduru/{stringbypass}\n",
        "!git clone https://huggingface.co/embed/negative /content/{stringbypass}/embeddings/negative\n",
        "!git clone https://huggingface.co/embed/lora /content/{stringbypass}/models/Lora/positive\n",
        "!aria2c --console-log-level=error -c -x 16 -s 16 -k 1M https://huggingface.co/embed/upscale/resolve/main/4x-UltraSharp.pth -d /content/{stringbypass}/models/ESRGAN -o 4x-UltraSharp.pth\n",
        "!wget https://raw.githubusercontent.com/camenduru/{stringbypass}-scripts/main/run_n_times.py -O /content/{stringbypass}/scripts/run_n_times.py\n",
        "!git clone https://github.com/deforum-art/deforum-for-automatic1111-webui /content/{stringbypass}/extensions/deforum-for-automatic1111-webui\n",
        "!git clone https://github.com/camenduru/{stringbypass}-images-browser /content/{stringbypass}/extensions/{stringbypass}-images-browser\n",
        "!git clone https://github.com/camenduru/{stringbypass}-huggingface /content/{stringbypass}/extensions/{stringbypass}-huggingface\n",
        "!git clone https://github.com/camenduru/sd-civitai-browser /content/{stringbypass}/extensions/sd-civitai-browser\n",
        "!git clone https://github.com/kohya-ss/sd-webui-additional-networks /content/{stringbypass}/extensions/sd-webui-additional-networks\n",
        "!git clone https://github.com/Mikubill/sd-webui-controlnet /content/{stringbypass}/extensions/sd-webui-controlnet\n",
        "!git clone https://github.com/fkunn1326/openpose-editor /content/{stringbypass}/extensions/openpose-editor\n",
        "!git clone https://github.com/jexom/sd-webui-depth-lib /content/{stringbypass}/extensions/sd-webui-depth-lib\n",
        "!git clone https://github.com/hnmr293/posex /content/{stringbypass}/extensions/posex\n",
        "!git clone https://github.com/nonnonstop/sd-webui-3d-open-pose-editor /content/{stringbypass}/extensions/sd-webui-3d-open-pose-editor\n",
        "!git clone https://github.com/camenduru/sd-webui-tunnels /content/{stringbypass}/extensions/sd-webui-tunnels\n",
        "!git clone https://github.com/etherealxx/batchlinks-webui /content/{stringbypass}/extensions/batchlinks-webui\n",
        "!git clone https://github.com/camenduru/{stringbypass}-catppuccin /content/{stringbypass}/extensions/{stringbypass}-catppuccin\n",
        "!git clone https://github.com/camenduru/a1111-sd-webui-locon /content/{stringbypass}/extensions/a1111-sd-webui-locon\n",
        "!git clone https://github.com/AUTOMATIC1111/{stringbypass}-rembg /content/{stringbypass}/extensions/{stringbypass}-rembg\n",
        "!git clone https://github.com/ashen-sensored/{stringbypass}-two-shot /content/{stringbypass}/extensions/{stringbypass}-two-shot\n",
        "!git clone https://github.com/thomasasfk/sd-webui-aspect-ratio-helper /content/{stringbypass}/extensions/sd-webui-aspect-ratio-helper\n",
        "!git clone https://github.com/tjm35/asymmetric-tiling-sd-webui /content/{stringbypass}/extensions/asymmetric-tiling-sd-webui\n",
        "%cd /content/{stringbypass}\n",
        "!git reset --hard\n",
        "!git -C /content/{stringbypass}/repositories/stable-diffusion-stability-ai reset --hard\n",
        "\n",
        "!aria2c --console-log-level=error -c -x 16 -s 16 -k 1M https://huggingface.co/ckpt/ControlNet-v1-1/resolve/main/control_v11e_sd15_ip2p_fp16.safetensors -d /content/{stringbypass}/extensions/sd-webui-controlnet/models -o control_v11e_sd15_ip2p_fp16.safetensors\n",
        "!aria2c --console-log-level=error -c -x 16 -s 16 -k 1M https://huggingface.co/ckpt/ControlNet-v1-1/resolve/main/control_v11e_sd15_shuffle_fp16.safetensors -d /content/{stringbypass}/extensions/sd-webui-controlnet/models -o control_v11e_sd15_shuffle_fp16.safetensors\n",
        "!aria2c --console-log-level=error -c -x 16 -s 16 -k 1M https://huggingface.co/ckpt/ControlNet-v1-1/resolve/main/control_v11p_sd15_canny_fp16.safetensors -d /content/{stringbypass}/extensions/sd-webui-controlnet/models -o control_v11p_sd15_canny_fp16.safetensors\n",
        "!aria2c --console-log-level=error -c -x 16 -s 16 -k 1M https://huggingface.co/ckpt/ControlNet-v1-1/resolve/main/control_v11f1p_sd15_depth_fp16.safetensors -d /content/{stringbypass}/extensions/sd-webui-controlnet/models -o control_v11f1p_sd15_depth_fp16.safetensors\n",
        "!aria2c --console-log-level=error -c -x 16 -s 16 -k 1M https://huggingface.co/ckpt/ControlNet-v1-1/resolve/main/control_v11p_sd15_inpaint_fp16.safetensors -d /content/{stringbypass}/extensions/sd-webui-controlnet/models -o control_v11p_sd15_inpaint_fp16.safetensors\n",
        "!aria2c --console-log-level=error -c -x 16 -s 16 -k 1M https://huggingface.co/ckpt/ControlNet-v1-1/resolve/main/control_v11p_sd15_lineart_fp16.safetensors -d /content/{stringbypass}/extensions/sd-webui-controlnet/models -o control_v11p_sd15_lineart_fp16.safetensors\n",
        "!aria2c --console-log-level=error -c -x 16 -s 16 -k 1M https://huggingface.co/ckpt/ControlNet-v1-1/resolve/main/control_v11p_sd15_mlsd_fp16.safetensors -d /content/{stringbypass}/extensions/sd-webui-controlnet/models -o control_v11p_sd15_mlsd_fp16.safetensors\n",
        "!aria2c --console-log-level=error -c -x 16 -s 16 -k 1M https://huggingface.co/ckpt/ControlNet-v1-1/resolve/main/control_v11p_sd15_normalbae_fp16.safetensors -d /content/{stringbypass}/extensions/sd-webui-controlnet/models -o control_v11p_sd15_normalbae_fp16.safetensors\n",
        "!aria2c --console-log-level=error -c -x 16 -s 16 -k 1M https://huggingface.co/ckpt/ControlNet-v1-1/resolve/main/control_v11p_sd15_openpose_fp16.safetensors -d /content/{stringbypass}/extensions/sd-webui-controlnet/models -o control_v11p_sd15_openpose_fp16.safetensors\n",
        "!aria2c --console-log-level=error -c -x 16 -s 16 -k 1M https://huggingface.co/ckpt/ControlNet-v1-1/resolve/main/control_v11p_sd15_scribble_fp16.safetensors -d /content/{stringbypass}/extensions/sd-webui-controlnet/models -o control_v11p_sd15_scribble_fp16.safetensors\n",
        "!aria2c --console-log-level=error -c -x 16 -s 16 -k 1M https://huggingface.co/ckpt/ControlNet-v1-1/resolve/main/control_v11p_sd15_seg_fp16.safetensors -d /content/{stringbypass}/extensions/sd-webui-controlnet/models -o control_v11p_sd15_seg_fp16.safetensors\n",
        "!aria2c --console-log-level=error -c -x 16 -s 16 -k 1M https://huggingface.co/ckpt/ControlNet-v1-1/resolve/main/control_v11p_sd15_softedge_fp16.safetensors -d /content/{stringbypass}/extensions/sd-webui-controlnet/models -o control_v11p_sd15_softedge_fp16.safetensors\n",
        "!aria2c --console-log-level=error -c -x 16 -s 16 -k 1M https://huggingface.co/ckpt/ControlNet-v1-1/resolve/main/control_v11p_sd15s2_lineart_anime_fp16.safetensors -d /content/{stringbypass}/extensions/sd-webui-controlnet/models -o control_v11p_sd15s2_lineart_anime_fp16.safetensors\n",
        "!aria2c --console-log-level=error -c -x 16 -s 16 -k 1M https://huggingface.co/ckpt/ControlNet-v1-1/resolve/main/control_v11f1e_sd15_tile_fp16.safetensors -d /content/{stringbypass}/extensions/sd-webui-controlnet/models -o control_v11f1e_sd15_tile_fp16.safetensors\n",
        "!aria2c --console-log-level=error -c -x 16 -s 16 -k 1M https://huggingface.co/ckpt/ControlNet-v1-1/raw/main/control_v11e_sd15_ip2p_fp16.yaml -d /content/{stringbypass}/extensions/sd-webui-controlnet/models -o control_v11e_sd15_ip2p_fp16.yaml\n",
        "!aria2c --console-log-level=error -c -x 16 -s 16 -k 1M https://huggingface.co/ckpt/ControlNet-v1-1/raw/main/control_v11e_sd15_shuffle_fp16.yaml -d /content/{stringbypass}/extensions/sd-webui-controlnet/models -o control_v11e_sd15_shuffle_fp16.yaml\n",
        "!aria2c --console-log-level=error -c -x 16 -s 16 -k 1M https://huggingface.co/ckpt/ControlNet-v1-1/raw/main/control_v11p_sd15_canny_fp16.yaml -d /content/{stringbypass}/extensions/sd-webui-controlnet/models -o control_v11p_sd15_canny_fp16.yaml\n",
        "!aria2c --console-log-level=error -c -x 16 -s 16 -k 1M https://huggingface.co/ckpt/ControlNet-v1-1/raw/main/control_v11f1p_sd15_depth_fp16.yaml -d /content/{stringbypass}/extensions/sd-webui-controlnet/models -o control_v11f1p_sd15_depth_fp16.yaml\n",
        "!aria2c --console-log-level=error -c -x 16 -s 16 -k 1M https://huggingface.co/ckpt/ControlNet-v1-1/raw/main/control_v11p_sd15_inpaint_fp16.yaml -d /content/{stringbypass}/extensions/sd-webui-controlnet/models -o control_v11p_sd15_inpaint_fp16.yaml\n",
        "!aria2c --console-log-level=error -c -x 16 -s 16 -k 1M https://huggingface.co/ckpt/ControlNet-v1-1/raw/main/control_v11p_sd15_lineart_fp16.yaml -d /content/{stringbypass}/extensions/sd-webui-controlnet/models -o control_v11p_sd15_lineart_fp16.yaml\n",
        "!aria2c --console-log-level=error -c -x 16 -s 16 -k 1M https://huggingface.co/ckpt/ControlNet-v1-1/raw/main/control_v11p_sd15_mlsd_fp16.yaml -d /content/{stringbypass}/extensions/sd-webui-controlnet/models -o control_v11p_sd15_mlsd_fp16.yaml\n",
        "!aria2c --console-log-level=error -c -x 16 -s 16 -k 1M https://huggingface.co/ckpt/ControlNet-v1-1/raw/main/control_v11p_sd15_normalbae_fp16.yaml -d /content/{stringbypass}/extensions/sd-webui-controlnet/models -o control_v11p_sd15_normalbae_fp16.yaml\n",
        "!aria2c --console-log-level=error -c -x 16 -s 16 -k 1M https://huggingface.co/ckpt/ControlNet-v1-1/raw/main/control_v11p_sd15_openpose_fp16.yaml -d /content/{stringbypass}/extensions/sd-webui-controlnet/models -o control_v11p_sd15_openpose_fp16.yaml\n",
        "!aria2c --console-log-level=error -c -x 16 -s 16 -k 1M https://huggingface.co/ckpt/ControlNet-v1-1/raw/main/control_v11p_sd15_scribble_fp16.yaml -d /content/{stringbypass}/extensions/sd-webui-controlnet/models -o control_v11p_sd15_scribble_fp16.yaml\n",
        "!aria2c --console-log-level=error -c -x 16 -s 16 -k 1M https://huggingface.co/ckpt/ControlNet-v1-1/raw/main/control_v11p_sd15_seg_fp16.yaml -d /content/{stringbypass}/extensions/sd-webui-controlnet/models -o control_v11p_sd15_seg_fp16.yaml\n",
        "!aria2c --console-log-level=error -c -x 16 -s 16 -k 1M https://huggingface.co/ckpt/ControlNet-v1-1/raw/main/control_v11p_sd15_softedge_fp16.yaml -d /content/{stringbypass}/extensions/sd-webui-controlnet/models -o control_v11p_sd15_softedge_fp16.yaml\n",
        "!aria2c --console-log-level=error -c -x 16 -s 16 -k 1M https://huggingface.co/ckpt/ControlNet-v1-1/raw/main/control_v11p_sd15s2_lineart_anime_fp16.yaml -d /content/{stringbypass}/extensions/sd-webui-controlnet/models -o control_v11p_sd15s2_lineart_anime_fp16.yaml\n",
        "!aria2c --console-log-level=error -c -x 16 -s 16 -k 1M https://huggingface.co/ckpt/ControlNet-v1-1/raw/main/control_v11f1e_sd15_tile_fp16.yaml -d /content/{stringbypass}/extensions/sd-webui-controlnet/models -o control_v11f1e_sd15_tile_fp16.yaml\n",
        "!aria2c --console-log-level=error -c -x 16 -s 16 -k 1M https://huggingface.co/ckpt/ControlNet-v1-1/resolve/main/t2iadapter_style_sd14v1.pth -d /content/{stringbypass}/extensions/sd-webui-controlnet/models -o t2iadapter_style_sd14v1.pth\n",
        "!aria2c --console-log-level=error -c -x 16 -s 16 -k 1M https://huggingface.co/ckpt/ControlNet-v1-1/resolve/main/t2iadapter_sketch_sd14v1.pth -d /content/{stringbypass}/extensions/sd-webui-controlnet/models -o t2iadapter_sketch_sd14v1.pth\n",
        "!aria2c --console-log-level=error -c -x 16 -s 16 -k 1M https://huggingface.co/ckpt/ControlNet-v1-1/resolve/main/t2iadapter_seg_sd14v1.pth -d /content/{stringbypass}/extensions/sd-webui-controlnet/models -o t2iadapter_seg_sd14v1.pth\n",
        "!aria2c --console-log-level=error -c -x 16 -s 16 -k 1M https://huggingface.co/ckpt/ControlNet-v1-1/resolve/main/t2iadapter_openpose_sd14v1.pth -d /content/{stringbypass}/extensions/sd-webui-controlnet/models -o t2iadapter_openpose_sd14v1.pth\n",
        "!aria2c --console-log-level=error -c -x 16 -s 16 -k 1M https://huggingface.co/ckpt/ControlNet-v1-1/resolve/main/t2iadapter_keypose_sd14v1.pth -d /content/{stringbypass}/extensions/sd-webui-controlnet/models -o t2iadapter_keypose_sd14v1.pth\n",
        "!aria2c --console-log-level=error -c -x 16 -s 16 -k 1M https://huggingface.co/ckpt/ControlNet-v1-1/resolve/main/t2iadapter_depth_sd14v1.pth -d /content/{stringbypass}/extensions/sd-webui-controlnet/models -o t2iadapter_depth_sd14v1.pth\n",
        "!aria2c --console-log-level=error -c -x 16 -s 16 -k 1M https://huggingface.co/ckpt/ControlNet-v1-1/resolve/main/t2iadapter_color_sd14v1.pth -d /content/{stringbypass}/extensions/sd-webui-controlnet/models -o t2iadapter_color_sd14v1.pth\n",
        "!aria2c --console-log-level=error -c -x 16 -s 16 -k 1M https://huggingface.co/ckpt/ControlNet-v1-1/resolve/main/t2iadapter_canny_sd14v1.pth -d /content/{stringbypass}/extensions/sd-webui-controlnet/models -o t2iadapter_canny_sd14v1.pth\n",
        "!aria2c --console-log-level=error -c -x 16 -s 16 -k 1M https://huggingface.co/ckpt/ControlNet-v1-1/resolve/main/t2iadapter_canny_sd15v2.pth -d /content/{stringbypass}/extensions/sd-webui-controlnet/models -o t2iadapter_canny_sd15v2.pth\n",
        "!aria2c --console-log-level=error -c -x 16 -s 16 -k 1M https://huggingface.co/ckpt/ControlNet-v1-1/resolve/main/t2iadapter_depth_sd15v2.pth -d /content/{stringbypass}/extensions/sd-webui-controlnet/models -o t2iadapter_depth_sd15v2.pth\n",
        "!aria2c --console-log-level=error -c -x 16 -s 16 -k 1M https://huggingface.co/ckpt/ControlNet-v1-1/resolve/main/t2iadapter_sketch_sd15v2.pth -d /content/{stringbypass}/extensions/sd-webui-controlnet/models -o t2iadapter_sketch_sd15v2.pth\n",
        "!aria2c --console-log-level=error -c -x 16 -s 16 -k 1M https://huggingface.co/ckpt/ControlNet-v1-1/resolve/main/t2iadapter_zoedepth_sd15v1.pth -d /content/{stringbypass}/extensions/sd-webui-controlnet/models -o t2iadapter_zoedepth_sd15v1.pth\n",
        "\n",
        "#Modified Area\n",
        "#Additional Extentions\n",
        "if supermerger:\n",
        "  !git clone https://github.com/hako-mikan/sd-webui-supermerger  /content/{stringbypass}/extensions/sd-webui-supermerger\n",
        "if tagcomplete:\n",
        "  !git clone https://github.com/DominikDoom/a1111-sd-webui-tagcomplete  /content/{stringbypass}/extensions/a1111-sd-webui-tagcomplete\n",
        "\n",
        "#Download custom model with link\n",
        "if enable_custom_model:\n",
        "  !wget -O /content/{stringbypass}/models/Stable-diffusion/{model_name} {model_link}\n",
        "  if use_vae:\n",
        "    !wget -O /content/{stringbypass}/models/VAE/{vae_name} {vae_link}\n",
        "\n",
        "#Save model to Google Drive\n",
        "if save_model_to_gdrive:\n",
        "  import os.path\n",
        "  from os import path\n",
        "  os.makedirs('/content/drive/MyDrive/' + stringbypass + '/models/Stable-diffusion/')\n",
        "  !cp -r /content/{stringbypass}/models /content/drive/MyDrive/{stringbypass}\n",
        "\n",
        "#Custom model from Google Drive\n",
        "if enable_drive:\n",
        "  !cp -r {drive_model} /content/{stringbypass}/models/Stable-diffusion\n",
        "  if use_vae_drive:\n",
        "    !cp -r {drive_vae} /content/{stringbypass}/models/VAE"
      ],
      "metadata": {
        "id": "GylJr3dynGTQ"
      },
      "execution_count": null,
      "outputs": []
    },
    {
      "cell_type": "markdown",
      "source": [
        "# 🌐 Start Web UI\n",
        "The Web UI will be hosted on some links. Please keep the cell opened to view the links!\n",
        "\n",
        "This cell will be your terminal, to see the Web UI generating progress.\n",
        "\n",
        "---\n",
        "\n",
        "\n",
        "# ⚠️ For Google Drive user\n",
        "Remember to change the output path to /content/drive/MyDrive/(Your Path) after the Web UI started."
      ],
      "metadata": {
        "id": "O4pAEq4K-bVI"
      }
    },
    {
      "cell_type": "code",
      "source": [
        "!sed -i -e '''/    prepare_environment()/a\\    os.system\\(f\\\"\"\"sed -i -e ''\\\"s/dict()))/dict())).cuda()/g\\\"'' /content/{stringbypass}/repositories/stable-diffusion-stability-ai/ldm/util.py\"\"\")''' /content/{stringbypass}/launch.py\n",
        "!sed -i -e 's/\\\"sd_model_checkpoint\\\"\\,/\\\"sd_model_checkpoint\\,sd_vae\\,CLIP_stop_at_last_layers\\\"\\,/g' /content/{stringbypass}/modules/shared.py\n",
        "\n",
        "!python launch.py --listen --xformers --enable-insecure-extension-access --theme dark --gradio-queue --multiple"
      ],
      "metadata": {
        "id": "T3eXC-SZ-dSP"
      },
      "execution_count": null,
      "outputs": []
    },
    {
      "cell_type": "markdown",
      "source": [
        "# 🌱 Outputs Recovery (For Google Drive user)\n",
        "If you forgot to change the output path, you still could move your outputs to your Google Drive!\n",
        "\n",
        "1.   Stop the Web UI\n",
        "2.   Make sure that your **runtime is still active and connected**\n",
        "3.   Make sure that **you have already connect your Google Drive**. If not, please connect your Google Drive at first by run the first cell above!\n",
        "4.   Run the cell below\n",
        "5.   Your outputs will be recovered to **/content/drive/MyDrive/s̱̰̼͚͎͙͌̃́t̻͍̼͈͔̳̯ͥͫ̎̒̐͝a̫͈̳͐̃ͥ̒̈͌bl̴̹̥̜̙̙e̤̤͍̗͙̗͗-̮̟̜͖͋ͣͯͣ͂̅ͅd̺̊͛̚i͇̪̘̼̔̇̈́ͦ͌͜f̳̯ͬ̇̒͋̐͜f̛͇̫ͨ̎̍͗ủ͖ͭ̈̉ͩs̜͕̠̐̾̂̾̑ͩ̇i̸̲̼̹͎ͦ̾̑o̓͝ṇ͆ͫ-̉we͋b͎̝̯̳ͮ̄̋̽̂̓̃u̺̱͌ͬͭ̂͌̑̚i̪̘̮̜̘̺̰̔̚/backup**\n",
        "\n"
      ],
      "metadata": {
        "id": "o5mMFRFu8H3o"
      }
    },
    {
      "cell_type": "code",
      "source": [
        "import os.path\n",
        "from os import path\n",
        "os.makedirs('/content/drive/MyDrive/' + stringbypass + '/backup')\n",
        "!cp -r \"/content/{stringbypass}/outputs\" \"/content/drive/MyDrive/{stringbypass}/backup\""
      ],
      "metadata": {
        "id": "hUMxFfVp7XaP"
      },
      "execution_count": null,
      "outputs": []
    }
  ],
  "metadata": {
    "accelerator": "GPU",
    "colab": {
      "private_outputs": true,
      "provenance": [],
      "collapsed_sections": [
        "8OSniMcNR3VS"
      ],
      "gpuType": "T4"
    },
    "gpuClass": "standard",
    "kernelspec": {
      "display_name": "Python 3",
      "name": "python3"
    },
    "language_info": {
      "name": "python"
    }
  },
  "nbformat": 4,
  "nbformat_minor": 0
}